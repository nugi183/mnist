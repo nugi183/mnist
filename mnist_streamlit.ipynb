{
 "cells": [
  {
   "cell_type": "markdown",
   "metadata": {
    "colab_type": "text",
    "id": "view-in-github"
   },
   "source": [
    "<a href=\"https://colab.research.google.com/github/bhupendrak9917/My-AI-Projects/blob/main/MNIST_Streamlit/mnist_streamlit.ipynb\" target=\"_parent\"><img src=\"https://colab.research.google.com/assets/colab-badge.svg\" alt=\"Open In Colab\"/></a>"
   ]
  },
  {
   "cell_type": "code",
   "execution_count": 1,
   "metadata": {
    "colab": {
     "base_uri": "https://localhost:8080/"
    },
    "id": "z9gDlju6bxch",
    "outputId": "451e5a6c-c956-46ff-8bb0-047341c2245f"
   },
   "outputs": [],
   "source": [
    "!pip install streamlit --quiet\n",
    "!pip install pyngrok==4.1.1 --quiet\n",
    "!pip install streamlit-drawable-canvas --quiet\n",
    "from pyngrok import ngrok"
   ]
  },
  {
   "cell_type": "code",
   "execution_count": null,
   "metadata": {
    "colab": {
     "base_uri": "https://localhost:8080/"
    },
    "id": "MHrVpXOdhBbM",
    "outputId": "c28eae83-a04f-4235-9a5b-f8e194959b43"
   },
   "outputs": [
    {
     "name": "stdout",
     "output_type": "stream",
     "text": [
      "Overwriting app.py\n"
     ]
    }
   ],
   "source": [
    "%%writefile app.py\n",
    "import streamlit as st\n",
    "from streamlit_drawable_canvas import st_canvas\n",
    "from tensorflow import keras\n",
    "import cv2\n",
    "import numpy as np\n",
    "model_new = keras.models.load_model('C:\\Users\\A S U S\\Downloads\\Mnist\\mnist.hdf5')\n",
    "\n",
    "st.title(\"MNIST Digit Recognizer\")\n",
    "\n",
    "SIZE = 192\n",
    "\n",
    "canvas_result = st_canvas(\n",
    "    fill_color=\"#ffffff\",\n",
    "    stroke_width=10,\n",
    "    stroke_color='#ffffff',\n",
    "    background_color=\"#000000\",\n",
    "    height=150,width=150,\n",
    "    drawing_mode='freedraw',\n",
    "    key=\"canvas\",\n",
    ")\n",
    "\n",
    "if canvas_result.image_data is not None:\n",
    "    img = cv2.resize(canvas_result.image_data.astype('uint8'), (28, 28))\n",
    "    img_rescaling = cv2.resize(img, (SIZE, SIZE), interpolation=cv2.INTER_NEAREST)\n",
    "    st.write('Input Image')\n",
    "    st.image(img_rescaling)\n",
    "\n",
    "if st.button('Predict'):\n",
    "    test_x = cv2.cvtColor(img, cv2.COLOR_BGR2GRAY)\n",
    "    pred = model_new.predict(test_x.reshape(1, 28, 28, 1))\n",
    "    st.write(f'result: {np.argmax(pred[0])}')\n",
    "    st.bar_chart(pred[0])\n"
   ]
  },
  {
   "cell_type": "code",
   "execution_count": null,
   "metadata": {
    "id": "xB-aBq0Tl9Ct"
   },
   "outputs": [],
   "source": []
  }
 ],
 "metadata": {
  "colab": {
   "authorship_tag": "ABX9TyPUxHOgFyUmi87QKYlvmoz/",
   "include_colab_link": true,
   "mount_file_id": "1ca8IKDoz1gP1yoL2g1IbJLLbEFShMiWL",
   "name": "mnist_streamlit.ipynb",
   "provenance": []
  },
  "kernelspec": {
   "display_name": "Python 3",
   "name": "python3"
  },
  "language_info": {
   "codemirror_mode": {
    "name": "ipython",
    "version": 3
   },
   "file_extension": ".py",
   "mimetype": "text/x-python",
   "name": "python",
   "nbconvert_exporter": "python",
   "pygments_lexer": "ipython3",
   "version": "3.11.9"
  }
 },
 "nbformat": 4,
 "nbformat_minor": 0
}
